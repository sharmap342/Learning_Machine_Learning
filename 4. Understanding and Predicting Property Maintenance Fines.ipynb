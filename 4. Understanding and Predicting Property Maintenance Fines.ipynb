{
 "cells": [
  {
   "cell_type": "markdown",
   "metadata": {},
   "source": [
    "## Understanding and Predicting Property Maintenance Fines\n",
    "\n",
    "Every year, the city of Detroit issues millions of dollars in fines to residents and every year, many of these fines remain unpaid. Enforcing unpaid blight fines is a costly and tedious process, so the city wants to know: how can we increase blight ticket compliance?\n",
    "\n",
    "The first step in answering this question is understanding when and why a resident might fail to comply with a blight ticket. This is where predictive modeling comes in. This code was written to predict whether a given blight ticket will be paid on time.    \n",
    "\n",
    "Each row in dataset corresponds to a single blight ticket, and includes information about when, why, and to whom each ticket was issued. The target variable is compliance, which is True if the ticket was paid early, on time, or within one month of the hearing data, False if the ticket was paid after the hearing date or not at all, and Null if the violator was found not responsible. \n",
    "\n",
    "Note: All tickets where the violators were found not responsible are not considered during evaluation. They are included in the training set as an additional source of data for visualization, and to enable unsupervised and semi-supervised approaches. However, they are not included in the test set."
   ]
  },
  {
   "cell_type": "code",
   "execution_count": 3,
   "metadata": {},
   "outputs": [],
   "source": [
    "# import required packages \n",
    "import pandas as pd\n",
    "import numpy as np\n",
    "from sklearn.model_selection import train_test_split\n",
    "from sklearn.ensemble import RandomForestClassifier\n",
    "from sklearn.linear_model import LogisticRegression"
   ]
  },
  {
   "cell_type": "code",
   "execution_count": 11,
   "metadata": {},
   "outputs": [
    {
     "name": "stdout",
     "output_type": "stream",
     "text": [
      "train dataframe \n",
      "    ticket_id                                     agency_name  \\\n",
      "0      22056  Buildings, Safety Engineering & Env Department   \n",
      "1      27586  Buildings, Safety Engineering & Env Department   \n",
      "2      22062  Buildings, Safety Engineering & Env Department   \n",
      "3      22084  Buildings, Safety Engineering & Env Department   \n",
      "4      22093  Buildings, Safety Engineering & Env Department   \n",
      "\n",
      "     inspector_name                      violator_name  \\\n",
      "0   Sims, Martinzie  INVESTMENT INC., MIDWEST MORTGAGE   \n",
      "1  Williams, Darrin           Michigan, Covenant House   \n",
      "2   Sims, Martinzie                    SANDERS, DERRON   \n",
      "3   Sims, Martinzie                       MOROSI, MIKE   \n",
      "4   Sims, Martinzie                    NATHANIEL, NEAL   \n",
      "\n",
      "   violation_street_number violation_street_name  violation_zip_code  \\\n",
      "0                   2900.0                 TYLER                 NaN   \n",
      "1                   4311.0               CENTRAL                 NaN   \n",
      "2                   1449.0            LONGFELLOW                 NaN   \n",
      "3                   1441.0            LONGFELLOW                 NaN   \n",
      "4                   2449.0             CHURCHILL                 NaN   \n",
      "\n",
      "   mailing_address_str_number mailing_address_str_name     city  ...  \\\n",
      "0                         3.0                S. WICKER  CHICAGO  ...   \n",
      "1                      2959.0       Martin Luther King  Detroit  ...   \n",
      "2                     23658.0                 P.O. BOX  DETROIT  ...   \n",
      "3                         5.0                ST. CLAIR  DETROIT  ...   \n",
      "4                      7449.0                CHURCHILL  DETROIT  ...   \n",
      "\n",
      "  clean_up_cost judgment_amount payment_amount balance_due  \\\n",
      "0           0.0           305.0            0.0       305.0   \n",
      "1           0.0           855.0          780.0        75.0   \n",
      "2           0.0             0.0            0.0         0.0   \n",
      "3           0.0             0.0            0.0         0.0   \n",
      "4           0.0             0.0            0.0         0.0   \n",
      "\n",
      "          payment_date      payment_status collection_status grafitti_status  \\\n",
      "0                  NaN  NO PAYMENT APPLIED               NaN             NaN   \n",
      "1  2005-06-02 00:00:00        PAID IN FULL               NaN             NaN   \n",
      "2                  NaN  NO PAYMENT APPLIED               NaN             NaN   \n",
      "3                  NaN  NO PAYMENT APPLIED               NaN             NaN   \n",
      "4                  NaN  NO PAYMENT APPLIED               NaN             NaN   \n",
      "\n",
      "                          compliance_detail  compliance  \n",
      "0               non-compliant by no payment         0.0  \n",
      "1  compliant by late payment within 1 month         1.0  \n",
      "2            not responsible by disposition         NaN  \n",
      "3            not responsible by disposition         NaN  \n",
      "4            not responsible by disposition         NaN  \n",
      "\n",
      "[5 rows x 34 columns]\n",
      ", \n",
      " test dataframe \n",
      "    ticket_id                 agency_name      inspector_name  \\\n",
      "0     284932  Department of Public Works  Granberry, Aisha B   \n",
      "1     285362  Department of Public Works      Lusk, Gertrina   \n",
      "2     285361  Department of Public Works      Lusk, Gertrina   \n",
      "3     285338  Department of Public Works   Talbert, Reginald   \n",
      "4     285346  Department of Public Works   Talbert, Reginald   \n",
      "\n",
      "        violator_name  violation_street_number violation_street_name  \\\n",
      "0    FLUELLEN, JOHN A                  10041.0             ROSEBERRY   \n",
      "1     WHIGHAM, THELMA                  18520.0             EVERGREEN   \n",
      "2     WHIGHAM, THELMA                  18520.0             EVERGREEN   \n",
      "3  HARABEDIEN, POPKIN                   1835.0               CENTRAL   \n",
      "4    CORBELL, STANLEY                   1700.0               CENTRAL   \n",
      "\n",
      "  violation_zip_code mailing_address_str_number mailing_address_str_name  \\\n",
      "0                NaN                        141                ROSEBERRY   \n",
      "1                NaN                      19136              GLASTONBURY   \n",
      "2                NaN                      19136              GLASTONBURY   \n",
      "3                NaN                       2246                   NELSON   \n",
      "4                NaN                       3435                   MUNGER   \n",
      "\n",
      "        city  ...                              violation_description  \\\n",
      "0    DETROIT  ...  Failure to secure City or Private solid waste ...   \n",
      "1    DETROIT  ...  Allowing bulk solid waste to lie or accumulate...   \n",
      "2    DETROIT  ...  Improper placement of Courville container betw...   \n",
      "3  WOODHAVEN  ...  Allowing bulk solid waste to lie or accumulate...   \n",
      "4    LIVONIA  ...  Violation of time limit for approved container...   \n",
      "\n",
      "              disposition  fine_amount admin_fee state_fee late_fee  \\\n",
      "0  Responsible by Default        200.0      20.0      10.0     20.0   \n",
      "1  Responsible by Default       1000.0      20.0      10.0    100.0   \n",
      "2  Responsible by Default        100.0      20.0      10.0     10.0   \n",
      "3  Responsible by Default        200.0      20.0      10.0     20.0   \n",
      "4  Responsible by Default        100.0      20.0      10.0     10.0   \n",
      "\n",
      "  discount_amount clean_up_cost judgment_amount  grafitti_status  \n",
      "0             0.0           0.0           250.0              NaN  \n",
      "1             0.0           0.0          1130.0              NaN  \n",
      "2             0.0           0.0           140.0              NaN  \n",
      "3             0.0           0.0           250.0              NaN  \n",
      "4             0.0           0.0           140.0              NaN  \n",
      "\n",
      "[5 rows x 27 columns]\n",
      ", address dataframe \n",
      "                                   address        lat        lon\n",
      "0  4300 rosa parks blvd, Detroit MI 48208  42.346169 -83.079962\n",
      "1                14512 sussex, Detroit MI  42.394657 -83.194265\n",
      "2                3456 garland, Detroit MI  42.373779 -82.986228\n",
      "3                5787 wayburn, Detroit MI  42.403342 -82.957805\n",
      "4              5766 haverhill, Detroit MI  42.407255 -82.946295\n",
      ", latlon dataframe \n",
      "                                   address        lat        lon\n",
      "0  4300 rosa parks blvd, Detroit MI 48208  42.346169 -83.079962\n",
      "1                14512 sussex, Detroit MI  42.394657 -83.194265\n",
      "2                3456 garland, Detroit MI  42.373779 -82.986228\n",
      "3                5787 wayburn, Detroit MI  42.403342 -82.957805\n",
      "4              5766 haverhill, Detroit MI  42.407255 -82.946295\n",
      "\n"
     ]
    }
   ],
   "source": [
    "# import data in train, test, address, and latlon dataframes\n",
    "df_train = pd.read_csv(r'address1\\train.csv'\n",
    "                       , encoding='iso-8859-1')\n",
    "df_test = pd.read_csv(r'address2\\test.csv'\n",
    "                       , encoding='utf-8')\n",
    "df_address = pd.read_csv(r'address3\\addresses.csv'\n",
    "                       , encoding='utf-8')\n",
    "df_latlon = df_address = pd.read_csv(r'address4\\latlons.csv'\n",
    "                       , encoding='utf-8')\n",
    "print(f'train dataframe \\n {df_train.head()}\\n, \\n test dataframe \\n {df_test.head()}\\n, address dataframe \\n {df_address.head()}\\n, latlon dataframe \\n {df_latlon.head()}\\n')"
   ]
  },
  {
   "cell_type": "code",
   "execution_count": 12,
   "metadata": {},
   "outputs": [
    {
     "data": {
      "text/plain": [
       "250306"
      ]
     },
     "execution_count": 12,
     "metadata": {},
     "output_type": "execute_result"
    }
   ],
   "source": [
    "len(df_train['ticket_id'].value_counts())"
   ]
  },
  {
   "cell_type": "code",
   "execution_count": 40,
   "metadata": {},
   "outputs": [
    {
     "data": {
      "text/html": [
       "<div>\n",
       "<style scoped>\n",
       "    .dataframe tbody tr th:only-of-type {\n",
       "        vertical-align: middle;\n",
       "    }\n",
       "\n",
       "    .dataframe tbody tr th {\n",
       "        vertical-align: top;\n",
       "    }\n",
       "\n",
       "    .dataframe thead th {\n",
       "        text-align: right;\n",
       "    }\n",
       "</style>\n",
       "<table border=\"1\" class=\"dataframe\">\n",
       "  <thead>\n",
       "    <tr style=\"text-align: right;\">\n",
       "      <th></th>\n",
       "      <th>fine_amount</th>\n",
       "      <th>admin_fee</th>\n",
       "      <th>state_fee</th>\n",
       "      <th>late_fee</th>\n",
       "      <th>discount_amount</th>\n",
       "      <th>clean_up_cost</th>\n",
       "      <th>judgment_amount</th>\n",
       "    </tr>\n",
       "  </thead>\n",
       "  <tbody>\n",
       "    <tr>\n",
       "      <td>0</td>\n",
       "      <td>250.0</td>\n",
       "      <td>20.0</td>\n",
       "      <td>10.0</td>\n",
       "      <td>25.0</td>\n",
       "      <td>0.0</td>\n",
       "      <td>0.0</td>\n",
       "      <td>305.0</td>\n",
       "    </tr>\n",
       "    <tr>\n",
       "      <td>1</td>\n",
       "      <td>750.0</td>\n",
       "      <td>20.0</td>\n",
       "      <td>10.0</td>\n",
       "      <td>75.0</td>\n",
       "      <td>0.0</td>\n",
       "      <td>0.0</td>\n",
       "      <td>855.0</td>\n",
       "    </tr>\n",
       "    <tr>\n",
       "      <td>2</td>\n",
       "      <td>250.0</td>\n",
       "      <td>0.0</td>\n",
       "      <td>0.0</td>\n",
       "      <td>0.0</td>\n",
       "      <td>0.0</td>\n",
       "      <td>0.0</td>\n",
       "      <td>0.0</td>\n",
       "    </tr>\n",
       "    <tr>\n",
       "      <td>3</td>\n",
       "      <td>250.0</td>\n",
       "      <td>0.0</td>\n",
       "      <td>0.0</td>\n",
       "      <td>0.0</td>\n",
       "      <td>0.0</td>\n",
       "      <td>0.0</td>\n",
       "      <td>0.0</td>\n",
       "    </tr>\n",
       "    <tr>\n",
       "      <td>4</td>\n",
       "      <td>250.0</td>\n",
       "      <td>0.0</td>\n",
       "      <td>0.0</td>\n",
       "      <td>0.0</td>\n",
       "      <td>0.0</td>\n",
       "      <td>0.0</td>\n",
       "      <td>0.0</td>\n",
       "    </tr>\n",
       "    <tr>\n",
       "      <td>...</td>\n",
       "      <td>...</td>\n",
       "      <td>...</td>\n",
       "      <td>...</td>\n",
       "      <td>...</td>\n",
       "      <td>...</td>\n",
       "      <td>...</td>\n",
       "      <td>...</td>\n",
       "    </tr>\n",
       "    <tr>\n",
       "      <td>250301</td>\n",
       "      <td>1000.0</td>\n",
       "      <td>0.0</td>\n",
       "      <td>0.0</td>\n",
       "      <td>0.0</td>\n",
       "      <td>0.0</td>\n",
       "      <td>0.0</td>\n",
       "      <td>0.0</td>\n",
       "    </tr>\n",
       "    <tr>\n",
       "      <td>250302</td>\n",
       "      <td>1000.0</td>\n",
       "      <td>0.0</td>\n",
       "      <td>0.0</td>\n",
       "      <td>0.0</td>\n",
       "      <td>0.0</td>\n",
       "      <td>0.0</td>\n",
       "      <td>0.0</td>\n",
       "    </tr>\n",
       "    <tr>\n",
       "      <td>250303</td>\n",
       "      <td>1000.0</td>\n",
       "      <td>0.0</td>\n",
       "      <td>0.0</td>\n",
       "      <td>0.0</td>\n",
       "      <td>0.0</td>\n",
       "      <td>0.0</td>\n",
       "      <td>0.0</td>\n",
       "    </tr>\n",
       "    <tr>\n",
       "      <td>250304</td>\n",
       "      <td>1000.0</td>\n",
       "      <td>0.0</td>\n",
       "      <td>0.0</td>\n",
       "      <td>0.0</td>\n",
       "      <td>0.0</td>\n",
       "      <td>0.0</td>\n",
       "      <td>0.0</td>\n",
       "    </tr>\n",
       "    <tr>\n",
       "      <td>250305</td>\n",
       "      <td>1000.0</td>\n",
       "      <td>0.0</td>\n",
       "      <td>0.0</td>\n",
       "      <td>0.0</td>\n",
       "      <td>0.0</td>\n",
       "      <td>0.0</td>\n",
       "      <td>0.0</td>\n",
       "    </tr>\n",
       "  </tbody>\n",
       "</table>\n",
       "<p>250306 rows × 7 columns</p>\n",
       "</div>"
      ],
      "text/plain": [
       "        fine_amount  admin_fee  state_fee  late_fee  discount_amount  \\\n",
       "0             250.0       20.0       10.0      25.0              0.0   \n",
       "1             750.0       20.0       10.0      75.0              0.0   \n",
       "2             250.0        0.0        0.0       0.0              0.0   \n",
       "3             250.0        0.0        0.0       0.0              0.0   \n",
       "4             250.0        0.0        0.0       0.0              0.0   \n",
       "...             ...        ...        ...       ...              ...   \n",
       "250301       1000.0        0.0        0.0       0.0              0.0   \n",
       "250302       1000.0        0.0        0.0       0.0              0.0   \n",
       "250303       1000.0        0.0        0.0       0.0              0.0   \n",
       "250304       1000.0        0.0        0.0       0.0              0.0   \n",
       "250305       1000.0        0.0        0.0       0.0              0.0   \n",
       "\n",
       "        clean_up_cost  judgment_amount  \n",
       "0                 0.0            305.0  \n",
       "1                 0.0            855.0  \n",
       "2                 0.0              0.0  \n",
       "3                 0.0              0.0  \n",
       "4                 0.0              0.0  \n",
       "...               ...              ...  \n",
       "250301            0.0              0.0  \n",
       "250302            0.0              0.0  \n",
       "250303            0.0              0.0  \n",
       "250304            0.0              0.0  \n",
       "250305            0.0              0.0  \n",
       "\n",
       "[250306 rows x 7 columns]"
      ]
     },
     "execution_count": 40,
     "metadata": {},
     "output_type": "execute_result"
    }
   ],
   "source": [
    "df_train[['fine_amount','admin_fee', 'state_fee', 'late_fee', 'discount_amount',\n",
    "       'clean_up_cost', 'judgment_amount' ]]"
   ]
  },
  {
   "cell_type": "code",
   "execution_count": 13,
   "metadata": {},
   "outputs": [],
   "source": [
    "# list of columns to be used in the model for training set \n",
    "col = ['ticket_id', 'fine_amount', 'late_fee', 'discount_amount', \\\n",
    "        'judgment_amount', 'compliance']"
   ]
  },
  {
   "cell_type": "code",
   "execution_count": 14,
   "metadata": {},
   "outputs": [],
   "source": [
    "df_final_train = df_train[col]\n",
    "df_final_test = df_test[col[: len(col)-1]] #test set for the model\n",
    "df_final_test_drop = df_final_test.dropna() #dropped null values "
   ]
  },
  {
   "cell_type": "code",
   "execution_count": 15,
   "metadata": {},
   "outputs": [],
   "source": [
    "df_final_drop = df_final_train.dropna() #dropping null values from the training set \n",
    "df_feature = df_final_drop[col[: len(col)-1]] #final training set \n",
    "df_label = df_final_drop['compliance'] # dropping compliance as it is not required \n",
    "X_train, X_test, y_train, y_test = train_test_split(df_feature, df_label, random_state=0)\n"
   ]
  },
  {
   "cell_type": "code",
   "execution_count": 16,
   "metadata": {},
   "outputs": [],
   "source": [
    "# train a logistic regression model \n",
    "clf = LogisticRegression().fit(X_train, y_train)\n"
   ]
  },
  {
   "cell_type": "code",
   "execution_count": 17,
   "metadata": {},
   "outputs": [
    {
     "data": {
      "text/plain": [
       "0.931048286214661"
      ]
     },
     "execution_count": 17,
     "metadata": {},
     "output_type": "execute_result"
    }
   ],
   "source": [
    "# check the accuracy\n",
    "clf.score(X_test, y_test)\n",
    "# seems like a good model "
   ]
  },
  {
   "cell_type": "code",
   "execution_count": 89,
   "metadata": {},
   "outputs": [],
   "source": [
    "# predict the probability on test set \n",
    "data = clf.predict_proba(df_final_test_drop[col[: len(col)-1]])[:,1]"
   ]
  },
  {
   "cell_type": "code",
   "execution_count": 90,
   "metadata": {},
   "outputs": [
    {
     "data": {
      "text/plain": [
       "ticket_id\n",
       "284932    0.050666\n",
       "285362    0.004446\n",
       "285361    0.067789\n",
       "285338    0.050636\n",
       "285346    0.067790\n",
       "            ...   \n",
       "376496    0.003876\n",
       "376497    0.003876\n",
       "376499    0.059578\n",
       "376500    0.059578\n",
       "369851    0.096334\n",
       "Length: 61001, dtype: float64"
      ]
     },
     "execution_count": 90,
     "metadata": {},
     "output_type": "execute_result"
    }
   ],
   "source": [
    "pd.Series(data=data, index=df_final_test_drop['ticket_id'])"
   ]
  },
  {
   "cell_type": "code",
   "execution_count": null,
   "metadata": {},
   "outputs": [],
   "source": []
  }
 ],
 "metadata": {
  "coursera": {
   "course_slug": "python-machine-learning",
   "graded_item_id": "nNS8l",
   "launcher_item_id": "yWWk7",
   "part_id": "w8BSS"
  },
  "kernelspec": {
   "display_name": "Python 3",
   "language": "python",
   "name": "python3"
  },
  "language_info": {
   "codemirror_mode": {
    "name": "ipython",
    "version": 3
   },
   "file_extension": ".py",
   "mimetype": "text/x-python",
   "name": "python",
   "nbconvert_exporter": "python",
   "pygments_lexer": "ipython3",
   "version": "3.7.4"
  }
 },
 "nbformat": 4,
 "nbformat_minor": 2
}
